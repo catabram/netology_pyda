{
 "cells": [
  {
   "cell_type": "markdown",
   "metadata": {},
   "source": [
    "## Задание 1"
   ]
  },
  {
   "cell_type": "markdown",
   "metadata": {},
   "source": [
    "Дан список вида:"
   ]
  },
  {
   "cell_type": "code",
   "execution_count": null,
   "metadata": {},
   "outputs": [],
   "source": [
    "data = [\n",
    "    [13, 25, 23, 34],\n",
    "    [45, 32, 44, 47],\n",
    "    [12, 33, 23, 95],\n",
    "    [13, 53, 34, 35]\n",
    "]"
   ]
  },
  {
   "cell_type": "markdown",
   "metadata": {},
   "source": [
    "Напишите функцию, которая возвращает сумму элементов на диагонали. Т. е. 13+32+23+35.  \n",
    "Список может быть любой длины, но всегда является \"квадратным\" (количество элементов во вложенных списках равно их количеству)."
   ]
  },
  {
   "cell_type": "code",
   "execution_count": null,
   "metadata": {},
   "outputs": [],
   "source": [
    "def diagonal_sum(inp):\n",
    "    \"\"\"\n",
    "    sum of diagonal square matrix\n",
    "    \"\"\"\n",
    "    s = 0\n",
    "    for i in range(len(inp)):\n",
    "        s += inp[i][i]  \n",
    "    return s"
   ]
  },
  {
   "cell_type": "code",
   "execution_count": null,
   "metadata": {},
   "outputs": [],
   "source": [
    "diagonal_sum(data)"
   ]
  },
  {
   "cell_type": "markdown",
   "metadata": {},
   "source": [
    "## Задание 2"
   ]
  },
  {
   "cell_type": "markdown",
   "metadata": {},
   "source": [
    "Напишите функцию, возвращающую сумму первых n чисел Фибоначчи (для этого вам может понадобится ознакомиться с рекурсией)."
   ]
  },
  {
   "cell_type": "code",
   "execution_count": 27,
   "metadata": {},
   "outputs": [],
   "source": [
    "def fib_sum(o):\n",
    "    def fib(n):\n",
    "        if n in (1, 2):\n",
    "            return 1\n",
    "        else: \n",
    "            return (fib(n - 1) + fib(n - 2))\n",
    "    return sum(list(map(fib, range(1, o + 1))))"
   ]
  },
  {
   "cell_type": "code",
   "execution_count": 28,
   "metadata": {},
   "outputs": [
    {
     "name": "stdout",
     "output_type": "stream",
     "text": [
      "20\n"
     ]
    }
   ],
   "source": [
    "print(fib_sum(6))"
   ]
  },
  {
   "cell_type": "markdown",
   "metadata": {},
   "source": [
    "## Задание 3\n"
   ]
  },
  {
   "cell_type": "markdown",
   "metadata": {},
   "source": [
    "Напишите функцию, преобразующую произвольный список вида ['2018-01-01', 'yandex', 'cpc', 100] (он может быть любой длины) в словарь {'2018-01-01': {'yandex': {'cpc': 100}}}"
   ]
  },
  {
   "cell_type": "code",
   "execution_count": 1,
   "metadata": {},
   "outputs": [],
   "source": [
    "a = ['2018-01-01', 'yandex', 'cpc', 100]"
   ]
  },
  {
   "cell_type": "code",
   "execution_count": 12,
   "metadata": {},
   "outputs": [],
   "source": [
    "# stat_to_dict(a)\n",
    "first, *other = a\n",
    "other\n",
    "\n",
    "def stat_to_dict(stat):\n",
    "    if len(stat) == 1:\n",
    "        return str(stat)\n",
    "    elif len(stat):\n",
    "        first, *other = stat\n",
    "        return {first: stat_to_dict(other)}\n",
    "    return stat"
   ]
  },
  {
   "cell_type": "code",
   "execution_count": 13,
   "metadata": {},
   "outputs": [
    {
     "data": {
      "text/plain": [
       "{'2018-01-01': {'yandex': {'cpc': '[100]'}}}"
      ]
     },
     "execution_count": 13,
     "metadata": {},
     "output_type": "execute_result"
    }
   ],
   "source": [
    "stat_to_dict(a)"
   ]
  },
  {
   "cell_type": "markdown",
   "metadata": {},
   "source": [
    "## Задание 4"
   ]
  },
  {
   "cell_type": "markdown",
   "metadata": {},
   "source": [
    "Вы работаете секретарем и вам постоянно приходят различные документы. Вы должны быть очень внимательны, чтобы не потерять ни один документ. Каталог документов хранится в следующем виде:"
   ]
  },
  {
   "cell_type": "code",
   "execution_count": 15,
   "metadata": {},
   "outputs": [],
   "source": [
    "documents = [\n",
    "    {'type': 'passport', 'number': '2207 876234', 'name': 'Василий Гупкин'},\n",
    "    {'type': 'invoice', 'number': '11-2', 'name': 'Геннадий Покемонов'},\n",
    "    {'type': 'insurance', 'number': '10006', 'name': 'Аристарх Павлов'}\n",
    "]"
   ]
  },
  {
   "cell_type": "code",
   "execution_count": 14,
   "metadata": {},
   "outputs": [],
   "source": [
    "directories = {\n",
    "    '1': ['2207 876234', '11-2', '5455 028765'],\n",
    "    '2': ['10006', '5400 028765', '5455 002299'],\n",
    "    '3': []\n",
    "}"
   ]
  },
  {
   "cell_type": "code",
   "execution_count": 3,
   "metadata": {},
   "outputs": [],
   "source": [
    "def check_doc(doc_input):\n",
    "    \"\"\"\n",
    "    проверяем наличие документа в списке\n",
    "    \"\"\"\n",
    "    for doc in documents:    \n",
    "        doc_number = doc.get('number')\n",
    "        if doc_number == doc_input:\n",
    "            return True\n",
    "    return False"
   ]
  },
  {
   "cell_type": "code",
   "execution_count": 4,
   "metadata": {},
   "outputs": [],
   "source": [
    "def check_shelf(shelf):\n",
    "    \"\"\"\n",
    "    проверяем, есть ли полка\n",
    "    \"\"\"\n",
    "    if shelf in directories.keys():\n",
    "        return True\n",
    "    return False"
   ]
  },
  {
   "cell_type": "code",
   "execution_count": 5,
   "metadata": {},
   "outputs": [],
   "source": [
    "def p_command(user_input):\n",
    "    \"\"\"\n",
    "    p – people – команда, которая спросит номер документа и выведет имя человека, которому он принадлежит\n",
    "    \"\"\"\n",
    "    for doc in documents:    \n",
    "        doc_number = doc.get('number')\n",
    "        if doc_number == user_input:\n",
    "            print(f\"Владелец документа: {doc.get('name')}\")"
   ]
  },
  {
   "cell_type": "code",
   "execution_count": 6,
   "metadata": {},
   "outputs": [],
   "source": [
    "def s_command(user_input):\n",
    "    \"\"\"\n",
    "    s – shelf – команда, которая спросит номер документа и выведет номер полки, на которой он находится\n",
    "    \"\"\"\n",
    "    for shelfs, docs in directories.items():\n",
    "        for docs_numbers in docs:\n",
    "            if docs_numbers == user_input:\n",
    "                return shelfs"
   ]
  },
  {
   "cell_type": "code",
   "execution_count": 7,
   "metadata": {},
   "outputs": [],
   "source": [
    "def l_command():\n",
    "    \"\"\"\n",
    "    l – list – команда, которая выведет список всех документов в формате\n",
    "passport \"2207 876234\" \"Василий Гупкин\"\n",
    "    \"\"\"\n",
    "    for doc in documents:    \n",
    "            print(doc.get('type'), '\"'+doc.get('number')+'\"', '\"'+doc.get('name')+'\"')"
   ]
  },
  {
   "cell_type": "code",
   "execution_count": 8,
   "metadata": {},
   "outputs": [],
   "source": [
    "def as_command():\n",
    "    \"\"\"\n",
    "    as – add shelf – команда, которая спросит номер новой полки и добавит ее в перечень\n",
    "    \"\"\"\n",
    "    user_input = str(input('Введите номер новой полки: '))\n",
    "    if user_input.isnumeric() == False:\n",
    "        print('Это не может быть номером полки, введите цифру')\n",
    "    elif user_input not in directories.keys():\n",
    "        directories[user_input] = []\n",
    "        print('Полка {user_input} добавлена')\n",
    "    else: \n",
    "        print('Такая полка уже есть')"
   ]
  },
  {
   "cell_type": "code",
   "execution_count": 9,
   "metadata": {},
   "outputs": [],
   "source": [
    "def d_command(user_input):\n",
    "    \"\"\"\n",
    "    d – delete – команда, которая спросит номер документа и удалит его из каталога и из перечня полок\n",
    "    \"\"\"\n",
    "    for doc in documents:    \n",
    "        doc_number = doc.get('number')\n",
    "        if doc_number == user_input:\n",
    "            documents.remove(doc)\n",
    "            directories.get(s_command(user_input)).remove(user_input)"
   ]
  },
  {
   "cell_type": "code",
   "execution_count": 10,
   "metadata": {},
   "outputs": [],
   "source": [
    "def a_command(doc_type, user_input_doc_check, name, user_input_shelf_check):\n",
    "    \"\"\"\n",
    "    a – add – команда, которая добавит новый документ в каталог и в перечень полок, спросив его номер, \n",
    "    тип, имя владельца и номер полки, на котором он будет храниться.\n",
    "    \"\"\"\n",
    "    documents.append({'type': doc_type, 'name': name, 'number': user_input_doc_check})\n",
    "    directories.get(user_input_shelf_check).append(user_input_doc_check)"
   ]
  },
  {
   "cell_type": "code",
   "execution_count": 11,
   "metadata": {},
   "outputs": [],
   "source": [
    "def m_command(user_input_doc_check, user_input_shelf_check):\n",
    "    \"\"\"\n",
    "    m – move – команда, которая спросит номер документа и целевую полку и переместит его с текущей полки на целевую\n",
    "    \"\"\"\n",
    "    directories.get(s_command(user_input_doc_check)).remove(user_input_doc_check)\n",
    "    directories.get(user_input_shelf_check).append(user_input_doc_check)\n",
    "    \n"
   ]
  },
  {
   "cell_type": "markdown",
   "metadata": {},
   "source": [
    "Необходимо реализовать пользовательские команды (внимание! это не название функций, которые должны быть выразительными, а команды, которые вводит пользователь, чтобы получить необходимый результат):\n",
    "  \n",
    "- p – people – команда, которая спросит номер документа и выведет имя человека, которому он принадлежит;  \n",
    "- s – shelf – команда, которая спросит номер документа и выведет номер полки, на которой он находится  \n",
    "Правильно обработайте ситуацию, когда пользователь будет вводить несуществующий документ.\n",
    "- l – list – команда, которая выведет список всех документов в формате   \n",
    "**passport \"2207 876234\" \"Василий Гупкин\"**  \n",
    "- as – add shelf – команда, которая спросит номер новой полки и добавит ее в перечень\n",
    "- d – delete – команда, которая спросит номер документа и удалит его из каталога и из перечня полок. Предусмотрите сценарий, когда пользователь вводит несуществующий документ;  \n",
    "- m – move – команда, которая спросит номер документа и целевую полку и переместит его с текущей полки на целевую. Корректно обработайте кейсы, когда пользователь пытается переместить несуществующий документ или переместить документ на несуществующую полку;  \n",
    "- a – add – команда, которая добавит новый документ в каталог и в перечень полок, спросив его номер, тип, имя владельца и номер полки, на котором он будет храниться."
   ]
  },
  {
   "cell_type": "code",
   "execution_count": 21,
   "metadata": {},
   "outputs": [],
   "source": [
    "def main():\n",
    "    user_input = str(input('Введите комманду: '))\n",
    "    if user_input == 'p':\n",
    "        user_input_doc_check = str(input('Введите номер документа: '))\n",
    "        if check_doc(user_input_doc_check) == False:\n",
    "            print('Такого документа нет')\n",
    "        else:\n",
    "            p_command(user_input_doc_check)\n",
    "    if user_input == 's':\n",
    "        user_input_doc_check = str(input('Введите номер документа: '))\n",
    "        if check_doc(user_input_doc_check) == False:\n",
    "            print('Такого документа нет')\n",
    "        else:\n",
    "            print(f'Документ лежит на полке {s_command(user_input_doc_check)}')\n",
    "    if user_input == 'l':\n",
    "        l_command()\n",
    "    if user_input == 'as':\n",
    "        as_command()\n",
    "    if user_input == 'd':\n",
    "        user_input_doc_check = str(input('Введите номер документа: '))\n",
    "        if check_doc(user_input_doc_check) == False:\n",
    "            print('Такого документа нет')\n",
    "        else:\n",
    "            d_command(user_input_doc_check)\n",
    "            print(f'Документ {user_input_doc_check} удален')\n",
    "    if user_input == 'a':\n",
    "        user_input_doc_check = str(input('Введите номер документа: '))\n",
    "        if check_doc(user_input_doc_check) == True:\n",
    "            print('Такой документ уже есть')\n",
    "        elif check_doc(user_input_doc_check) == False:\n",
    "            user_input_shelf_check = str(input('Введите номер полки: '))\n",
    "            if check_shelf(user_input_shelf_check) == False:\n",
    "                print('Такой полки нет')\n",
    "            else: \n",
    "                name = str(input('Введите имя владельца: '))\n",
    "                doc_type = str(input('Введите тип документа: '))\n",
    "                a_command(doc_type, user_input_doc_check, name, user_input_shelf_check)\n",
    "                print(f'Документ {user_input_doc_check} добавлен на полку {user_input_shelf_check}')\n",
    "    if user_input == 'm':\n",
    "        user_input_doc_check = str(input('Введите номер документа: '))\n",
    "        if check_doc(user_input_doc_check) == False:\n",
    "            print('Такого документа нет')\n",
    "        elif check_doc(user_input_doc_check) == True:\n",
    "            user_input_shelf_check = str(input('Введите номер полки: '))\n",
    "            if check_shelf(user_input_shelf_check) == False:\n",
    "                print('Такой полки нет')\n",
    "            else: \n",
    "                print(f'Документ {user_input_doc_check} был перемещён с полки {s_command(user_input_doc_check)} на полку {user_input_shelf_check}')        \n",
    "                m_command(user_input_doc_check, user_input_shelf_check)\n",
    "    else:\n",
    "        print('Нет такой комманды')"
   ]
  },
  {
   "cell_type": "code",
   "execution_count": 22,
   "metadata": {},
   "outputs": [
    {
     "name": "stdout",
     "output_type": "stream",
     "text": [
      "Введите комманду: l\n",
      "passport \"2207 876234\" \"Василий Гупкин\"\n",
      "invoice \"11-2\" \"Геннадий Покемонов\"\n",
      "insurance \"10006\" \"Аристарх Павлов\"\n",
      "Нет такой комманды\n"
     ]
    }
   ],
   "source": [
    "main()"
   ]
  }
 ],
 "metadata": {
  "kernelspec": {
   "display_name": "Python 3",
   "language": "python",
   "name": "python3"
  },
  "language_info": {
   "codemirror_mode": {
    "name": "ipython",
    "version": 3
   },
   "file_extension": ".py",
   "mimetype": "text/x-python",
   "name": "python",
   "nbconvert_exporter": "python",
   "pygments_lexer": "ipython3",
   "version": "3.7.4"
  }
 },
 "nbformat": 4,
 "nbformat_minor": 2
}
