{
 "cells": [
  {
   "cell_type": "markdown",
   "metadata": {},
   "source": [
    "**Задание 1**. Даны 2 строки: *long_phrase* и *short_phrase*. \n",
    "Напишите код, который проверяет действительно ли длинная фраза *long_phrase* длиннее короткой *short_phrase*. И выводит *True* или *False* в зависимости от результата сравнения."
   ]
  },
  {
   "cell_type": "code",
   "execution_count": null,
   "metadata": {},
   "outputs": [],
   "source": [
    "long_phrase = 'Насколько проще было бы писать программы, если бы не заказчики'\n",
    "short_phrase = '640Кб должно хватить для любых задач. Билл Гейтс (по легенде)'"
   ]
  },
  {
   "cell_type": "code",
   "execution_count": null,
   "metadata": {},
   "outputs": [],
   "source": [
    "print(len(long_phrase) > len(short_phrase))"
   ]
  },
  {
   "cell_type": "markdown",
   "metadata": {},
   "source": [
    "**Задание 2**. Дано значение объема файла в байтах. Напишите перевод этого значения в мегабайты в формате: \"*Объем файла равен 213.68Mb*\""
   ]
  },
  {
   "cell_type": "code",
   "execution_count": null,
   "metadata": {},
   "outputs": [],
   "source": [
    "size = float(input('Введите число ')) / 1048576\n",
    "print('Объем файла равен {:.2f}Mb'.format(size))"
   ]
  },
  {
   "cell_type": "markdown",
   "metadata": {},
   "source": [
    "**Задание 3**. Разработать приложение для определения знака зодиака по дате рождения. Пример:\n",
    "\n",
    "Введите месяц: март\n",
    "\n",
    "Введите число: 6\n",
    "\n",
    "Вывод:\n",
    "Рыбы"
   ]
  },
  {
   "cell_type": "code",
   "execution_count": null,
   "metadata": {},
   "outputs": [],
   "source": [
    "month = input('Введите месяц ')\n",
    "day = int(input('Введите число '))"
   ]
  },
  {
   "cell_type": "code",
   "execution_count": null,
   "metadata": {},
   "outputs": [],
   "source": [
    "if month == 'март':\n",
    "    if day < int(21):\n",
    "        print('Рыбы')\n",
    "    else:\n",
    "        print('Овен')       \n",
    "elif month == 'апрель': \n",
    "    if day < int(21):\n",
    "        print('Овен')\n",
    "    else:\n",
    "        print('Телец') \n",
    "elif month == 'май': \n",
    "    if day < int(21):\n",
    "        print('Телец')\n",
    "    else:\n",
    "        print('Близнецы') \n",
    "elif month == 'июнь': \n",
    "    if day < int(22):\n",
    "        print('Близнецы')\n",
    "    else:\n",
    "        print('Рак') \n",
    "elif month == 'июль': \n",
    "    if day < int(23):\n",
    "        print('Рак')\n",
    "    else:\n",
    "        print('Лев') \n",
    "elif month == 'август': \n",
    "    if day < int(24):\n",
    "        print('Лев')\n",
    "    else:\n",
    "        print('Дева') \n",
    "elif month == 'сентябрь': \n",
    "    if day < int(24):\n",
    "        print('Дева')\n",
    "    else:\n",
    "        print('Весы') \n",
    "elif month == 'октябрь': \n",
    "    if day < int(24):\n",
    "        print('Весы')\n",
    "    else:\n",
    "        print('Скорпион') \n",
    "elif month == 'ноябрь': \n",
    "    if day < int(23):\n",
    "        print('Скорпион')\n",
    "    else:\n",
    "        print('Стрелец')\n",
    "elif month == 'декабрь': \n",
    "    if day < int(22):\n",
    "        print('Стрелец')\n",
    "    else:\n",
    "        print('Козерог') \n",
    "elif month == 'январь': \n",
    "    if day < int(21):\n",
    "        print('Козерог')\n",
    "    else:\n",
    "        print('Водолей') \n",
    "elif month == 'февраль': \n",
    "    if day < int(21):\n",
    "        print('Водолей')\n",
    "    else:\n",
    "        print('Рыбы')         "
   ]
  },
  {
   "cell_type": "markdown",
   "metadata": {},
   "source": [
    "**Задание 4**. Нужно разработать приложение для финансового планирования.\n",
    "Приложение учитывает сколько уходит на ипотеку, \"на жизнь\" и сколько нужно отложить на пенсию.\n",
    "Пользователь вводит:\n",
    "- заработанную плату в месяц.\n",
    "- сколько процентов от ЗП уходит на ипотеку.\n",
    "- сколько процентов от ЗП уходит \"на жизнь\".\n",
    "- сколько раз приходит премия в год.\n",
    "\n",
    "Остальная часть заработанной платы откладывается на пенсию.\n",
    "\n",
    "Также пользователю приходит премия в размере зарплаты, от которой половина уходит на отпуск, а вторая половина откладывается.\n",
    "\n",
    "Программа должна учитывать сколько премий было в год.\n",
    "\n",
    "Нужно вывести сколько денег тратит пользователь на ипотеку и сколько он накопит за год.\n",
    "\n",
    "Пример:\n",
    "\n",
    "Введите заработанную плату в месяц: 100000\n",
    "\n",
    "Введите сколько процентов уходит на ипотеку: 30\n",
    "\n",
    "Введите сколько процентов уходит на жизнь: 50\n",
    "\n",
    "Введите количество премий за год: 2\n",
    "\n",
    "Вывод:\n",
    "На ипотеку было потрачено: 360000 рублей\n",
    "Было накоплено: 340000 рублей"
   ]
  },
  {
   "cell_type": "code",
   "execution_count": 35,
   "metadata": {},
   "outputs": [
    {
     "name": "stdout",
     "output_type": "stream",
     "text": [
      "Введите заработанную плату в месяц: 100000\n",
      "Введите сколько процентов уходит на ипотеку: 30\n",
      "Введите сколько процентов уходит на жизнь: 50\n",
      "Введите количество премий за год: 2\n"
     ]
    }
   ],
   "source": [
    "salary = float(input('Введите заработанную плату в месяц: '))\n",
    "mortgage = float(input('Введите сколько процентов уходит на ипотеку: '))\n",
    "spendings = float(input('Введите сколько процентов уходит на жизнь: '))\n",
    "bonus = int(input('Введите количество премий за год: '))"
   ]
  },
  {
   "cell_type": "code",
   "execution_count": 46,
   "metadata": {},
   "outputs": [
    {
     "name": "stdout",
     "output_type": "stream",
     "text": [
      "На ипотеку было потрачено: 360000 рублей\n",
      "Было накоплено: 340000 рублей\n"
     ]
    }
   ],
   "source": [
    "print('На ипотеку было потрачено: {:.0f} рублей'.format(salary * mortgage * 0.12))\n",
    "print('Было накоплено: {:.0f} рублей'.format((100 - mortgage - spendings) * salary * 0.12 + salary / 2 * bonus))"
   ]
  }
 ],
 "metadata": {
  "kernelspec": {
   "display_name": "Python 3",
   "language": "python",
   "name": "python3"
  },
  "language_info": {
   "codemirror_mode": {
    "name": "ipython",
    "version": 3
   },
   "file_extension": ".py",
   "mimetype": "text/x-python",
   "name": "python",
   "nbconvert_exporter": "python",
   "pygments_lexer": "ipython3",
   "version": "3.7.4"
  }
 },
 "nbformat": 4,
 "nbformat_minor": 2
}
